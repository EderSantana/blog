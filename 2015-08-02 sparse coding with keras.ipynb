{
 "metadata": {
  "kernelspec": {
   "display_name": "Python 2",
   "language": "python",
   "name": "python2"
  },
  "language_info": {
   "codemirror_mode": {
    "name": "ipython",
    "version": 2
   },
   "file_extension": ".py",
   "mimetype": "text/x-python",
   "name": "python",
   "nbconvert_exporter": "python",
   "pygments_lexer": "ipython2",
   "version": "2.7.10"
  },
  "name": "",
  "signature": "sha256:584ee41d16f44d6df28a6be845468cb3947ef5631ebd5346d7d4a143ed5f3ff6"
 },
 "nbformat": 3,
 "nbformat_minor": 0,
 "worksheets": [
  {
   "cells": [
    {
     "cell_type": "heading",
     "level": 1,
     "metadata": {},
     "source": [
      "Sparse Coding with Keras"
     ]
    },
    {
     "cell_type": "markdown",
     "metadata": {},
     "source": [
      "When I start using a new machine learning library I usually write a Sparse Coding class to get a feeling of how its pieces work together.  \n",
      "In this post I'll show how I did that with [Keras](http://keras.io) Theano-based Deep learning library. But first, let us review what sparse coding means."
     ]
    },
    {
     "cell_type": "heading",
     "level": 3,
     "metadata": {},
     "source": [
      "Sparse coding"
     ]
    },
    {
     "cell_type": "markdown",
     "metadata": {},
     "source": [
      "Sparse coding is an unsupervised learning technique, thus it is statistical model of data. In its most simple form, sparse coding represents the input data $\\mathbf{s}$ as a linear model:  \n",
      "\n",
      "\\begin{equation}\n",
      "\\mathbf{s} \\approx \\mathbf{Ax},  \n",
      "\\end{equation}\n",
      "\n",
      "where $\\mathbf{A}$ are a set of basis functions and $\\mathbf{x}$ a sparse vector of linear coefficients. In practice, given a dataseset $\\mathbf{S=\\{s_1, ..., s_n\\}}$ we can estimate the $\\mathbf{A}$ and $\\mathbf{X={x_1, ..., x_n}}$ alternating the expection of the coefficients $\\mathbf{x}_i$ and the maximization of $\\mathbf{A}$. We do so by minimizing the following cost function:\n",
      "\n",
      "\\begin{equation}\n",
      "\\mathcal{L} = E\\left[ (\\mathbf{s}_i - \\mathbf{Ax}_i)^2 + \\gamma\\left|\\mathbf{x}_i \\right|_{L1} \\right],\n",
      "\\end{equation}\n",
      "\n",
      "where $E[\\cdot]$ denotes the expectataion operator, $\\left| \\cdot \\right|_{L1}$ the L1-norm and $\\gamma$ is a penalty constant. \n",
      "\n",
      "The different sparse coding techniques differ on how they do previous optimization. Here, I will focus on a fully differentiable one [1] that allows us to use sparse coding as a layer of a deep neural network. For instance, I will approximate the L1-norm as $|x|_{L1} \\approx \\sqrt{x^2 + 10^{-7}}$. We will skip talking about the precise gradients here, because Theano will handle that for us automatically. But notice that the Expectation-Maximization (EM) of $\\mathcal{L}$ alternates a few steps of gradient descent for $\\mathbf{x}_i$:\n",
      "\n",
      "\\begin{equation}\n",
      "\\mathbf{x}_i \\leftarrow \\mathbf{x}_i + \\eta_x\\frac{\\partial \\mathcal{L}}{\\partial \\mathbf{x}_i}\n",
      "\\end{equation}\n",
      "\n",
      "and a step for $\\mathbf{A}$\n",
      "\n",
      "\\begin{equation}\n",
      "\\mathbf{A} \\leftarrow \\mathbf{A} + \\eta_A \\frac{\\partial \\mathcal{L}}{\\partial \\mathbf{A}}.\n",
      "\\end{equation}\n",
      "\n",
      "And here is where our design choices start. Lets see how to go about that with Theano and Keras."
     ]
    },
    {
     "cell_type": "heading",
     "level": 3,
     "metadata": {},
     "source": [
      "A new Keras layer"
     ]
    },
    {
     "cell_type": "markdown",
     "metadata": {},
     "source": [
      "A minimal Keras layer needs only two methods:"
     ]
    },
    {
     "cell_type": "code",
     "collapsed": false,
     "input": [
      "class SparseCoding(Layer):\n",
      "    def __init__(self, input_dim, output_dim,\n",
      "                 init='glorot_uniform',\n",
      "                 activation='linear',\n",
      "                 truncate_gradient=-1,\n",
      "                 gamma=.1, # \n",
      "                 n_steps=10,\n",
      "                 batch_size=100,\n",
      "                 return_reconstruction=False,\n",
      "                 W_regularizer=l2(.01),\n",
      "                 activity_regularizer=None):):\n",
      "            \n",
      "            super(SparseCoding, self).__init__()\n",
      "            self.init = init\n",
      "            ...\n",
      "            \n",
      "            self.A = self.init((self.output_dim, self.input_dim)) # contrary to a regular neural net layer, here \n",
      "                                                                  # the output needs to have the same dimension as\n",
      "                                                                  # as the input we are modelling. Other layers would\n",
      "                                                                  # have self.init((self.input_dim, self.output_dim))\n",
      "                                                                  # as the dimensions of its adaptive coefficients.\n",
      "\n",
      "    def get_output(self, train=False):\n",
      "        ..."
     ],
     "language": "python",
     "metadata": {},
     "outputs": [],
     "prompt_number": null
    },
    {
     "cell_type": "markdown",
     "metadata": {},
     "source": [
      "The `get_output` method is the feedforward step of the layer. I chose this to be the Expectation (optimization for \\mathbf{x}) of the sparse coding. Notice that we need to do a few steps of optimization for $\\mathbf{x}$ before we consider doing an step for $\\mathbf{A}$. This is to give the sparse codes enough time to converge. Thus, we will need a sort of for loop inside our `get_output`. In Theano, for loops are implemented with [scan](http://deeplearning.net/software/theano/library/scan.html). \n",
      "\n",
      "Theano's `scan` is composed of a `step` function, which is the main operation to transform old states into new ones and a few sequential and non-sequential parameters along with initial states values. So, here is how we define our `get_output`. "
     ]
    },
    {
     "cell_type": "code",
     "collapsed": true,
     "input": [
      "def get_output(self, train=False):\n",
      "    s = self.get_input(train) # input data to be modeled\n",
      "    initial_x = alloc_zeros_matrix(self.batch_size, self.output_dim) # initialize sparse codes with zeros.\n",
      "                                                                     # Again note that the coefficients here got \n",
      "                                                                     # output_dim as its last dimension because this \n",
      "                                                                     # a generative model.\n",
      "    outputs, updates = theano.scan(\n",
      "            self._step, # function operated in the main loop\n",
      "            sequences=[], # iterable input sequences, we don't need this here\n",
      "            outputs_info=[initial_states, ]*3 + [None, ], # initial states, I'll explain why we have 4 initial states.\n",
      "            non_sequences=[inputs, prior], # this is kept the same for the entire for loop\n",
      "            n_steps=self.n_steps, # since sequences is empty, scan needs this information to know when to stop\n",
      "            truncate_gradient=self.truncate_gradient) # how much backpropagation throught time/iteration you need.\n",
      "    if self.return_reconstruction:\n",
      "            return outputs[-1][-1] # return the approximation of the input\n",
      "    else:\n",
      "            return outputs[0][-1] # return the sparse codes"
     ],
     "language": "python",
     "metadata": {},
     "outputs": [],
     "prompt_number": 5
    },
    {
     "cell_type": "markdown",
     "metadata": {},
     "source": [
      "This is basically the outter definition of a for loop. The following `_step` function defines what happens inside:"
     ]
    },
    {
     "cell_type": "code",
     "collapsed": true,
     "input": [
      "def _step(self, \n",
      "          x_t, # this is the code itself at the begging of the Expectation step. First values are zero, remember?\n",
      "          accum_1, # We are not going to use regular SGD to optimize \n",
      "          accum_2, # for x. It is too slow, we will use RMSprop instead. Those are its internal helper variables.\n",
      "          inputs # Fixed input data\n",
      "          ): \n",
      "        outputs = T.dot(x_t, self.A) # Ax, its faster to use row orientation here, C heritage you know?\n",
      "        rec_error = T.sqr(inputs - outputs).sum() # First right hand term of L (s - Ax)^2\n",
      "        l1_norm = (self.gamma * diff_abs(x_t)).sum() # diff_abs is sqrt(x^2 + 1e-7) we were talking about\n",
      "        cost = rec_error + l1_norm # this the cost function L\n",
      "        x, new_accum_1, new_accum_2 = _RMSPropStep(cost, x_t, accum_1, accum_2) # _RMSPropStep does the step\n",
      "                                                                                # optimization x <- x + n*grad(L,x)\n",
      "        return x, new_accum_1, new_accum_2, outputs"
     ],
     "language": "python",
     "metadata": {},
     "outputs": [],
     "prompt_number": 7
    },
    {
     "cell_type": "markdown",
     "metadata": {},
     "source": [
      "Here is how we will use [RMSprop](https://www.youtube.com/watch?v=LGA-gRkLEsI) to speed up the optimization of $\\mathbf{x}$."
     ]
    },
    {
     "cell_type": "code",
     "collapsed": true,
     "input": [
      "def _RMSPropStep(cost, states, accum_1, accum_2):\n",
      "    rho = .9 # Nobody \n",
      "    lr = .001 # usually understand\n",
      "    momentum = .9 # or mess\n",
      "    epsilon = 1e-8 # with those hyperparameters. BTW lr is the learning rate.\n",
      "\n",
      "    grads = T.grad(cost, states) # I love Theano, don't you\n",
      "    \n",
      "    # Did you see the video I linked above? Ok, keep reading\n",
      "    new_accum_1 = rho * accum_1 + (1 - rho) * grads**2 # running average\n",
      "    new_accum_2 = momentum * accum_2 - lr * grads / T.sqrt(new_accum_1 + epsilon) # momentum\n",
      "    new_states = states + momentum * new_accum_2 - lr * (grads /                        # This is the actual grad\n",
      "                                                         T.sqrt(new_accum_1 + epsilon)) # step update\n",
      "    return new_states, new_accum_1, new_accum_2"
     ],
     "language": "python",
     "metadata": {},
     "outputs": [],
     "prompt_number": 9
    },
    {
     "cell_type": "markdown",
     "metadata": {},
     "source": [
      "And thats all we need. Notice that effectively, a sparse coding layer is a recursive layer, similar to an RNN layer. Here we can backpropagate the gradients thorugh optimization step to optimize for $\\mathbf{A}$. Theano `grad` does that backpropagating thorough `scan`. Thus, the Maximization step of the EM-algorithm will be handled by Keras's optimization and I didn't need to write anything for that.\n",
      "\n",
      "A Sparse Coding layer is available as part of `Seya` a library that I'm writing as a companion to Keras. Lets give it a try next."
     ]
    },
    {
     "cell_type": "heading",
     "level": 3,
     "metadata": {},
     "source": [
      "Hands on example"
     ]
    },
    {
     "cell_type": "markdown",
     "metadata": {},
     "source": [
      "Assuming you already have Anaconda (or something like that), scikit-learn, Keras, and stuff. Just install a few extra things I'm writing. \n",
      "\n",
      "Seya for sparse coding layers:  \n",
      "\n",
      "        pip install git+https://github.com/EderSantana/seya.git   \n",
      "        \n",
      "Agnez for deep learning viz stuff. This will be great one day... one day:  \n",
      "\n",
      "        pip install git+https://github.com/EderSantana/agnez.git  \n",
      "        \n",
      "Install the extra stuff your enviroment may ask. Like Seaborn: `pip install seaborn`. Also download the following dataset of natural image patches [here](http://cs.stanford.edu/~jngiam/data/patches.mat) (thanks to Jiquan Ngiam)."
     ]
    },
    {
     "cell_type": "code",
     "collapsed": false,
     "input": [
      "# Download a natural image patches dataset\n",
      "%matplotlib inline\n",
      "import os\n",
      "import numpy as np\n",
      "import theano\n",
      "from scipy.io import loadmat\n",
      "#os.system('wget http://cs.stanford.edu/~jngiam/data/patches.mat')\n",
      "import matplotlib.pyplot as plt\n",
      "from sklearn.datasets import fetch_mldata\n",
      "\n",
      "from keras.models import Sequential\n",
      "from keras.regularizers import l2\n",
      "from keras.optimizers import RMSprop\n",
      "from seya.layers.coding import SparseCoding\n",
      "\n",
      "from agnez import grid2d\n",
      "\n",
      "floatX = theano.config.floatX"
     ],
     "language": "python",
     "metadata": {},
     "outputs": [
      {
       "output_type": "stream",
       "stream": "stderr",
       "text": [
        "Using gpu device 0: GeForce GTX 680\n"
       ]
      }
     ],
     "prompt_number": 1
    },
    {
     "cell_type": "code",
     "collapsed": false,
     "input": [
      "S = loadmat('patches.mat')['data'].T.astype(floatX)\n",
      "print S.shape"
     ],
     "language": "python",
     "metadata": {},
     "outputs": [
      {
       "output_type": "stream",
       "stream": "stdout",
       "text": [
        "(50000, 256)\n"
       ]
      }
     ],
     "prompt_number": 2
    },
    {
     "cell_type": "code",
     "collapsed": false,
     "input": [
      "# REF: http://peekaboo-vision.blogspot.com/2012/04/learning-gabor-filters-with-ica-and.html\n",
      "image_patches = fetch_mldata(\"natural scenes data\")\n",
      "X = image_patches.data\n",
      " \n",
      "# 1000 patches a 32x32\n",
      "# not so much data, reshape to 16000 patches a 8x8\n",
      "#S = S.reshape(1000, 4, 8, 4, 8)\n",
      "#X = np.rollaxis(X, 3, 2).reshape(-1, 8 * 8)\n",
      "#print X.shape"
     ],
     "language": "python",
     "metadata": {},
     "outputs": [],
     "prompt_number": 3
    },
    {
     "cell_type": "code",
     "collapsed": false,
     "input": [
      "mean = S.mean(axis=0)\n",
      "S -= mean[np.newaxis] # we remove the mean otherwise Sparse Coding will focus only on that"
     ],
     "language": "python",
     "metadata": {},
     "outputs": [],
     "prompt_number": 4
    },
    {
     "cell_type": "code",
     "collapsed": false,
     "input": [
      "model = Sequential()\n",
      "model.add(\n",
      "    SparseCoding(\n",
      "        input_dim=256,\n",
      "        output_dim=49, # we are learning 49 filters,\n",
      "        n_steps = 100, # remember the self.n_steps in the scan loop?\n",
      "        truncate_gradient=1, # no bapropagation through time today now, just regular sparse coding\n",
      "        W_regularizer=l2(.00005),\n",
      "        return_reconstruction=True # we will output Ax which approximates the input\n",
      "    )\n",
      ")\n",
      "\n",
      "rmsp = RMSprop(lr=.1)\n",
      "model.compile(loss='mse', optimizer=rmsp) # RMSprop for Maximization as well"
     ],
     "language": "python",
     "metadata": {},
     "outputs": [],
     "prompt_number": 11
    },
    {
     "cell_type": "code",
     "collapsed": false,
     "input": [
      "nb_epoch = 100\n",
      "batch_size = 100\n",
      "model.fit(S, # input \n",
      "          S, # and output are the same thing, since we are doing generative modelling.\n",
      "          batch_size=batch_size,\n",
      "          nb_epoch=nb_epoch, \n",
      "          show_accuracy=False,\n",
      "          verbose=2)"
     ],
     "language": "python",
     "metadata": {},
     "outputs": [
      {
       "output_type": "stream",
       "stream": "stdout",
       "text": [
        "Epoch 0\n",
        "22s - loss: 0.0032\n"
       ]
      },
      {
       "output_type": "stream",
       "stream": "stdout",
       "text": [
        "Epoch 1\n",
        "22s - loss: 0.0026\n"
       ]
      },
      {
       "output_type": "stream",
       "stream": "stdout",
       "text": [
        "Epoch 2\n",
        "22s - loss: 0.0026\n"
       ]
      },
      {
       "output_type": "stream",
       "stream": "stdout",
       "text": [
        "Epoch 3\n",
        "22s - loss: 0.0026\n"
       ]
      },
      {
       "output_type": "stream",
       "stream": "stdout",
       "text": [
        "Epoch 4\n",
        "21s - loss: 0.0026\n"
       ]
      },
      {
       "output_type": "stream",
       "stream": "stdout",
       "text": [
        "Epoch 5\n",
        "21s - loss: 0.0026\n"
       ]
      },
      {
       "output_type": "stream",
       "stream": "stdout",
       "text": [
        "Epoch 6\n",
        "21s - loss: 0.0026\n"
       ]
      },
      {
       "output_type": "stream",
       "stream": "stdout",
       "text": [
        "Epoch 7\n",
        "21s - loss: 0.0026\n"
       ]
      },
      {
       "output_type": "stream",
       "stream": "stdout",
       "text": [
        "Epoch 8\n",
        "21s - loss: 0.0026\n"
       ]
      },
      {
       "output_type": "stream",
       "stream": "stdout",
       "text": [
        "Epoch 9\n",
        "21s - loss: 0.0026\n"
       ]
      },
      {
       "output_type": "stream",
       "stream": "stdout",
       "text": [
        "Epoch 10\n",
        "21s - loss: 0.0026\n"
       ]
      },
      {
       "output_type": "stream",
       "stream": "stdout",
       "text": [
        "Epoch 11\n",
        "21s - loss: 0.0026\n"
       ]
      },
      {
       "output_type": "stream",
       "stream": "stdout",
       "text": [
        "Epoch 12\n",
        "21s - loss: 0.0026\n"
       ]
      },
      {
       "output_type": "stream",
       "stream": "stdout",
       "text": [
        "Epoch 13\n",
        "21s - loss: 0.0026\n"
       ]
      },
      {
       "output_type": "stream",
       "stream": "stdout",
       "text": [
        "Epoch 14\n",
        "22s - loss: 0.0026\n"
       ]
      },
      {
       "output_type": "stream",
       "stream": "stdout",
       "text": [
        "Epoch 15\n",
        "22s - loss: 0.0026\n"
       ]
      },
      {
       "output_type": "stream",
       "stream": "stdout",
       "text": [
        "Epoch 16\n",
        "22s - loss: 0.0026\n"
       ]
      },
      {
       "output_type": "stream",
       "stream": "stdout",
       "text": [
        "Epoch 17\n",
        "22s - loss: 0.0026\n"
       ]
      },
      {
       "output_type": "stream",
       "stream": "stdout",
       "text": [
        "Epoch 18\n",
        "22s - loss: 0.0026\n"
       ]
      },
      {
       "output_type": "stream",
       "stream": "stdout",
       "text": [
        "Epoch 19\n",
        "21s - loss: 0.0026\n"
       ]
      },
      {
       "output_type": "stream",
       "stream": "stdout",
       "text": [
        "Epoch 20\n",
        "22s - loss: 0.0026\n"
       ]
      },
      {
       "output_type": "stream",
       "stream": "stdout",
       "text": [
        "Epoch 21\n",
        "22s - loss: 0.0026\n"
       ]
      },
      {
       "output_type": "stream",
       "stream": "stdout",
       "text": [
        "Epoch 22\n",
        "22s - loss: 0.0026\n"
       ]
      },
      {
       "output_type": "stream",
       "stream": "stdout",
       "text": [
        "Epoch 23\n",
        "22s - loss: 0.0026\n"
       ]
      },
      {
       "output_type": "stream",
       "stream": "stdout",
       "text": [
        "Epoch 24\n",
        "22s - loss: 0.0026\n"
       ]
      },
      {
       "output_type": "stream",
       "stream": "stdout",
       "text": [
        "Epoch 25\n",
        "22s - loss: 0.0026\n"
       ]
      },
      {
       "output_type": "stream",
       "stream": "stdout",
       "text": [
        "Epoch 26\n",
        "22s - loss: 0.0026\n"
       ]
      },
      {
       "output_type": "stream",
       "stream": "stdout",
       "text": [
        "Epoch 27\n",
        "21s - loss: 0.0026\n"
       ]
      },
      {
       "output_type": "stream",
       "stream": "stdout",
       "text": [
        "Epoch 28\n",
        "21s - loss: 0.0026\n"
       ]
      },
      {
       "output_type": "stream",
       "stream": "stdout",
       "text": [
        "Epoch 29\n",
        "20s - loss: 0.0026\n"
       ]
      },
      {
       "output_type": "stream",
       "stream": "stdout",
       "text": [
        "Epoch 30\n",
        "21s - loss: 0.0026\n"
       ]
      },
      {
       "output_type": "stream",
       "stream": "stdout",
       "text": [
        "Epoch 31\n",
        "20s - loss: 0.0026\n"
       ]
      },
      {
       "output_type": "stream",
       "stream": "stdout",
       "text": [
        "Epoch 32\n",
        "22s - loss: 0.0026\n"
       ]
      },
      {
       "output_type": "stream",
       "stream": "stdout",
       "text": [
        "Epoch 33\n",
        "20s - loss: 0.0026\n"
       ]
      },
      {
       "output_type": "stream",
       "stream": "stdout",
       "text": [
        "Epoch 34\n",
        "22s - loss: 0.0026\n"
       ]
      },
      {
       "output_type": "stream",
       "stream": "stdout",
       "text": [
        "Epoch 35\n",
        "21s - loss: 0.0026\n"
       ]
      },
      {
       "output_type": "stream",
       "stream": "stdout",
       "text": [
        "Epoch 36\n",
        "21s - loss: 0.0026\n"
       ]
      },
      {
       "output_type": "stream",
       "stream": "stdout",
       "text": [
        "Epoch 37\n",
        "22s - loss: 0.0026\n"
       ]
      },
      {
       "output_type": "stream",
       "stream": "stdout",
       "text": [
        "Epoch 38\n",
        "21s - loss: 0.0026\n"
       ]
      },
      {
       "output_type": "stream",
       "stream": "stdout",
       "text": [
        "Epoch 39\n",
        "22s - loss: 0.0026\n"
       ]
      },
      {
       "output_type": "stream",
       "stream": "stdout",
       "text": [
        "Epoch 40\n",
        "22s - loss: 0.0026\n"
       ]
      },
      {
       "output_type": "stream",
       "stream": "stdout",
       "text": [
        "Epoch 41\n",
        "21s - loss: 0.0026\n"
       ]
      },
      {
       "output_type": "stream",
       "stream": "stdout",
       "text": [
        "Epoch 42\n",
        "22s - loss: 0.0026\n"
       ]
      },
      {
       "output_type": "stream",
       "stream": "stdout",
       "text": [
        "Epoch 43\n",
        "21s - loss: 0.0026\n"
       ]
      },
      {
       "output_type": "stream",
       "stream": "stdout",
       "text": [
        "Epoch 44\n",
        "22s - loss: 0.0026\n"
       ]
      },
      {
       "output_type": "stream",
       "stream": "stdout",
       "text": [
        "Epoch 45\n",
        "21s - loss: 0.0026\n"
       ]
      },
      {
       "output_type": "stream",
       "stream": "stdout",
       "text": [
        "Epoch 46\n",
        "22s - loss: 0.0026\n"
       ]
      },
      {
       "output_type": "stream",
       "stream": "stdout",
       "text": [
        "Epoch 47\n",
        "21s - loss: 0.0026\n"
       ]
      },
      {
       "output_type": "stream",
       "stream": "stdout",
       "text": [
        "Epoch 48\n",
        "21s - loss: 0.0026\n"
       ]
      },
      {
       "output_type": "stream",
       "stream": "stdout",
       "text": [
        "Epoch 49\n",
        "20s - loss: 0.0026\n"
       ]
      },
      {
       "output_type": "stream",
       "stream": "stdout",
       "text": [
        "Epoch 50\n",
        "21s - loss: 0.0026\n"
       ]
      },
      {
       "output_type": "stream",
       "stream": "stdout",
       "text": [
        "Epoch 51\n",
        "20s - loss: 0.0026\n"
       ]
      },
      {
       "output_type": "stream",
       "stream": "stdout",
       "text": [
        "Epoch 52\n",
        "21s - loss: 0.0026\n"
       ]
      },
      {
       "output_type": "stream",
       "stream": "stdout",
       "text": [
        "Epoch 53\n",
        "20s - loss: 0.0026\n"
       ]
      },
      {
       "output_type": "stream",
       "stream": "stdout",
       "text": [
        "Epoch 54\n",
        "21s - loss: 0.0026\n"
       ]
      },
      {
       "output_type": "stream",
       "stream": "stdout",
       "text": [
        "Epoch 55\n",
        "20s - loss: 0.0026\n"
       ]
      },
      {
       "output_type": "stream",
       "stream": "stdout",
       "text": [
        "Epoch 56\n",
        "20s - loss: 0.0026\n"
       ]
      },
      {
       "output_type": "stream",
       "stream": "stdout",
       "text": [
        "Epoch 57\n",
        "21s - loss: 0.0026\n"
       ]
      },
      {
       "output_type": "stream",
       "stream": "stdout",
       "text": [
        "Epoch 58\n",
        "21s - loss: 0.0026\n"
       ]
      },
      {
       "output_type": "stream",
       "stream": "stdout",
       "text": [
        "Epoch 59\n",
        "21s - loss: 0.0026\n"
       ]
      },
      {
       "output_type": "stream",
       "stream": "stdout",
       "text": [
        "Epoch 60\n",
        "21s - loss: 0.0026\n"
       ]
      },
      {
       "output_type": "stream",
       "stream": "stdout",
       "text": [
        "Epoch 61\n",
        "21s - loss: 0.0026\n"
       ]
      },
      {
       "output_type": "stream",
       "stream": "stdout",
       "text": [
        "Epoch 62\n",
        "21s - loss: 0.0026\n"
       ]
      },
      {
       "output_type": "stream",
       "stream": "stdout",
       "text": [
        "Epoch 63\n",
        "21s - loss: 0.0026\n"
       ]
      },
      {
       "output_type": "stream",
       "stream": "stdout",
       "text": [
        "Epoch 64\n",
        "20s - loss: 0.0026\n"
       ]
      },
      {
       "output_type": "stream",
       "stream": "stdout",
       "text": [
        "Epoch 65\n",
        "20s - loss: 0.0026\n"
       ]
      },
      {
       "output_type": "stream",
       "stream": "stdout",
       "text": [
        "Epoch 66\n",
        "20s - loss: 0.0026\n"
       ]
      },
      {
       "output_type": "stream",
       "stream": "stdout",
       "text": [
        "Epoch 67\n",
        "19s - loss: 0.0026\n"
       ]
      },
      {
       "output_type": "stream",
       "stream": "stdout",
       "text": [
        "Epoch 68\n",
        "20s - loss: 0.0026\n"
       ]
      },
      {
       "output_type": "stream",
       "stream": "stdout",
       "text": [
        "Epoch 69\n",
        "20s - loss: 0.0026\n"
       ]
      },
      {
       "output_type": "stream",
       "stream": "stdout",
       "text": [
        "Epoch 70\n",
        "20s - loss: 0.0026\n"
       ]
      },
      {
       "output_type": "stream",
       "stream": "stdout",
       "text": [
        "Epoch 71\n",
        "20s - loss: 0.0026\n"
       ]
      },
      {
       "output_type": "stream",
       "stream": "stdout",
       "text": [
        "Epoch 72\n",
        "20s - loss: 0.0026\n"
       ]
      },
      {
       "output_type": "stream",
       "stream": "stdout",
       "text": [
        "Epoch 73\n",
        "19s - loss: 0.0026\n"
       ]
      },
      {
       "output_type": "stream",
       "stream": "stdout",
       "text": [
        "Epoch 74\n",
        "20s - loss: 0.0026\n"
       ]
      },
      {
       "output_type": "stream",
       "stream": "stdout",
       "text": [
        "Epoch 75\n",
        "20s - loss: 0.0026\n"
       ]
      },
      {
       "output_type": "stream",
       "stream": "stdout",
       "text": [
        "Epoch 76\n",
        "20s - loss: 0.0026\n"
       ]
      },
      {
       "output_type": "stream",
       "stream": "stdout",
       "text": [
        "Epoch 77\n",
        "20s - loss: 0.0026\n"
       ]
      },
      {
       "output_type": "stream",
       "stream": "stdout",
       "text": [
        "Epoch 78\n",
        "20s - loss: 0.0026\n"
       ]
      },
      {
       "output_type": "stream",
       "stream": "stdout",
       "text": [
        "Epoch 79\n",
        "20s - loss: 0.0026\n"
       ]
      },
      {
       "output_type": "stream",
       "stream": "stdout",
       "text": [
        "Epoch 80\n",
        "19s - loss: 0.0026\n"
       ]
      },
      {
       "output_type": "stream",
       "stream": "stdout",
       "text": [
        "Epoch 81\n",
        "20s - loss: 0.0026\n"
       ]
      },
      {
       "output_type": "stream",
       "stream": "stdout",
       "text": [
        "Epoch 82\n",
        "20s - loss: 0.0026\n"
       ]
      },
      {
       "output_type": "stream",
       "stream": "stdout",
       "text": [
        "Epoch 83\n",
        "20s - loss: 0.0026\n"
       ]
      },
      {
       "output_type": "stream",
       "stream": "stdout",
       "text": [
        "Epoch 84\n",
        "20s - loss: 0.0026\n"
       ]
      },
      {
       "output_type": "stream",
       "stream": "stdout",
       "text": [
        "Epoch 85\n",
        "20s - loss: 0.0026\n"
       ]
      },
      {
       "output_type": "stream",
       "stream": "stdout",
       "text": [
        "Epoch 86\n",
        "20s - loss: 0.0026\n"
       ]
      },
      {
       "output_type": "stream",
       "stream": "stdout",
       "text": [
        "Epoch 87\n",
        "20s - loss: 0.0026\n"
       ]
      },
      {
       "output_type": "stream",
       "stream": "stdout",
       "text": [
        "Epoch 88\n",
        "20s - loss: 0.0026\n"
       ]
      },
      {
       "output_type": "stream",
       "stream": "stdout",
       "text": [
        "Epoch 89\n",
        "20s - loss: 0.0026\n"
       ]
      },
      {
       "output_type": "stream",
       "stream": "stdout",
       "text": [
        "Epoch 90\n",
        "20s - loss: 0.0026\n"
       ]
      },
      {
       "output_type": "stream",
       "stream": "stdout",
       "text": [
        "Epoch 91\n",
        "20s - loss: 0.0026\n"
       ]
      },
      {
       "output_type": "stream",
       "stream": "stdout",
       "text": [
        "Epoch 92\n",
        "20s - loss: 0.0026\n"
       ]
      },
      {
       "output_type": "stream",
       "stream": "stdout",
       "text": [
        "Epoch 93\n",
        "19s - loss: 0.0026\n"
       ]
      },
      {
       "output_type": "stream",
       "stream": "stdout",
       "text": [
        "Epoch 94\n",
        "20s - loss: 0.0026\n"
       ]
      },
      {
       "output_type": "stream",
       "stream": "stdout",
       "text": [
        "Epoch 95\n",
        "19s - loss: 0.0026\n"
       ]
      },
      {
       "output_type": "stream",
       "stream": "stdout",
       "text": [
        "Epoch 96\n",
        "19s - loss: 0.0026\n"
       ]
      },
      {
       "output_type": "stream",
       "stream": "stdout",
       "text": [
        "Epoch 97\n",
        "20s - loss: 0.0026\n"
       ]
      },
      {
       "output_type": "stream",
       "stream": "stdout",
       "text": [
        "Epoch 98\n",
        "20s - loss: 0.0026\n"
       ]
      },
      {
       "output_type": "stream",
       "stream": "stdout",
       "text": [
        "Epoch 99\n",
        "19s - loss: 0.0026\n"
       ]
      },
      {
       "metadata": {},
       "output_type": "pyout",
       "prompt_number": 12,
       "text": [
        "<keras.callbacks.History at 0x7f9a83661490>"
       ]
      }
     ],
     "prompt_number": 12
    },
    {
     "cell_type": "markdown",
     "metadata": {},
     "source": [
      "... 100 iterations later ..."
     ]
    },
    {
     "cell_type": "code",
     "collapsed": false,
     "input": [
      "# Visualizing results\n",
      "A = model.params[0].get_value()\n",
      "I = grid2d(A)\n",
      "plt.imshow(I)"
     ],
     "language": "python",
     "metadata": {},
     "outputs": [
      {
       "metadata": {},
       "output_type": "pyout",
       "prompt_number": 13,
       "text": [
        "<matplotlib.image.AxesImage at 0x7f9a8dce5290>"
       ]
      },
      {
       "metadata": {},
       "output_type": "display_data",
       "png": "[encoded data removed]",
       "text": [
        "<matplotlib.figure.Figure at 0x7f9a9db64e10>"
       ]
      }
     ],
     "prompt_number": 13
    },
    {
     "cell_type": "markdown",
     "metadata": {},
     "source": [
      "Notice that we learned a few Gabor-like wavelets as the filters $mathbf{A}$ just like it was reported at [1]. Usually, those edge detector are usefull as first layer processing for image processing. You'll get stuff like that in the first layer of networks trained to solve Cifar10, Imagenet and pretty much any other good deep learning for image (and something similar for audio as well).\n",
      "\n",
      "This same SparseCoding layer can be used as part of a supervised network. We leave this use case as an exercise for the reader."
     ]
    }
   ],
   "metadata": {}
  }
 ]
}