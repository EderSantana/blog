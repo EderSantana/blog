{
 "cells": [
  {
   "cell_type": "markdown",
   "metadata": {},
   "source": [
    "#Sparse Coding with Keras"
   ]
  },
  {
   "cell_type": "markdown",
   "metadata": {},
   "source": [
    "When I start using a new machine learning library I usually write a Sparse Coding class to get a feeling of how its pieces work together.  \n",
    "In this post I'll show how I did that with [Keras](http://keras.io) Theano-based Deep learning library. But first, let us review what sparse coding means."
   ]
  },
  {
   "cell_type": "markdown",
   "metadata": {},
   "source": [
    "###Sparse coding"
   ]
  },
  {
   "cell_type": "markdown",
   "metadata": {},
   "source": [
    "Sparse coding is an unsupervised learning technique, thus it is statistical model of data. In its most simple form, sparse coding represents the input data $\\mathbf{s}$ as a linear model:  \n",
    "\n",
    "\\begin{equation}\n",
    "\\mathbf{s} \\approx \\mathbf{Ax},  \n",
    "\\end{equation}\n",
    "\n",
    "where $\\mathbf{A}$ are a set of basis functions and $\\mathbf{x}$ a sparse vector of linear coefficients. In practice, given a dataseset $\\mathbf{S=\\{s_1, ..., s_n\\}}$ we can estimate the $\\mathbf{A}$ and $\\mathbf{X={x_1, ..., x_n}}$ alternating the expection of the coefficients $\\mathbf{x}_i$ and the maximization of $\\mathbf{A}$. We do so by minimizing the following cost function:\n",
    "\n",
    "\\begin{equation}\n",
    "\\mathcal{L} = E\\left[ (\\mathbf{s}_i - \\mathbf{Ax}_i)^2 + \\gamma\\left|\\mathbf{x}_i \\right|_{L1} \\right],\n",
    "\\end{equation}\n",
    "\n",
    "where $E[\\cdot]$ denotes the expectataion operator, $\\left| \\cdot \\right|_{L1}$ the L1-norm and $\\gamma$ is a penalty constant. \n",
    "\n",
    "The different sparse coding techniques differ on how they do previous optimization. Here, I will focus on a fully differentiable one [1] that allows us to use sparse coding as a layer of a deep neural network. For instance, I will approximate the L1-norm as $|x|_{L1} \\approx \\sqrt{x^2 + 10^{-7}}$. We will skip talking about the precise gradients here, because Theano will handle that for us automatically. But notice that the Expectation-Maximization (EM) of $\\mathcal{L}$ alternates a few steps of gradient descent for $\\mathbf{x}_i$:\n",
    "\n",
    "\\begin{equation}\n",
    "\\mathbf{x}_i \\leftarrow \\mathbf{x}_i + \\eta_x\\frac{\\partial \\mathcal{L}}{\\partial \\mathbf{x}_i}\n",
    "\\end{equation}\n",
    "\n",
    "and a step for $\\mathbf{A}$\n",
    "\n",
    "\\begin{equation}\n",
    "\\mathbf{A} \\leftarrow \\mathbf{A} + \\eta_A \\frac{\\partial \\mathcal{L}}{\\partial \\mathbf{A}}.\n",
    "\\end{equation}\n",
    "\n",
    "And here is where our design choices start. Lets see how to go about that with Theano and Keras."
   ]
  },
  {
   "cell_type": "markdown",
   "metadata": {},
   "source": [
    "###A new Keras layer"
   ]
  },
  {
   "cell_type": "markdown",
   "metadata": {},
   "source": [
    "A minimal Keras layer needs only two methods:"
   ]
  },
  {
   "cell_type": "code",
   "execution_count": null,
   "metadata": {
    "collapsed": false
   },
   "outputs": [],
   "source": [
    "class SparseCoding(Layer):\n",
    "    def __init__(self, input_dim, output_dim,\n",
    "                 init='glorot_uniform',\n",
    "                 activation='linear',\n",
    "                 truncate_gradient=-1,\n",
    "                 gamma=.1, # \n",
    "                 n_steps=10,\n",
    "                 batch_size=100,\n",
    "                 return_reconstruction=False,\n",
    "                 W_regularizer=l2(.01),\n",
    "                 activity_regularizer=None):):\n",
    "            \n",
    "            super(SparseCoding, self).__init__()\n",
    "            self.init = init\n",
    "            ...\n",
    "            \n",
    "            self.A = self.init((self.output_dim, self.input_dim)) # contrary to a regular neural net layer, here \n",
    "                                                                  # the output needs to have the same dimension as\n",
    "                                                                  # as the input we are modelling. Other layers would\n",
    "                                                                  # have self.init((self.input_dim, self.output_dim))\n",
    "                                                                  # as the dimensions of its adaptive coefficients.\n",
    "\n",
    "    def get_output(self, train=False):\n",
    "        ..."
   ]
  },
  {
   "cell_type": "markdown",
   "metadata": {},
   "source": [
    "The `get_output` method is the feedforward step of the layer. I chose this to be the Expectation (optimization for \\mathbf{x}) of the sparse coding. Notice that we need to do a few steps of optimization for $\\mathbf{x}$ before we consider doing an step for $\\mathbf{A}$. This is to give the sparse codes enough time to converge. Thus, we will need a sort of for loop inside our `get_output`. In Theano, for loops are implemented with [scan](http://deeplearning.net/software/theano/library/scan.html). \n",
    "\n",
    "Theano's `scan` is composed of a `step` function, which is the main operation to transform old states into new ones and a few sequential and non-sequential parameters along with initial states values. So, here is how we define our `get_output`. "
   ]
  },
  {
   "cell_type": "code",
   "execution_count": 5,
   "metadata": {
    "collapsed": true
   },
   "outputs": [],
   "source": [
    "def get_output(self, train=False):\n",
    "    s = self.get_input(train) # input data to be modeled\n",
    "    initial_x = alloc_zeros_matrix(self.batch_size, self.output_dim) # initialize sparse codes with zeros.\n",
    "                                                                     # Again note that the coefficients here got \n",
    "                                                                     # output_dim as its last dimension because this \n",
    "                                                                     # a generative model.\n",
    "    outputs, updates = theano.scan(\n",
    "            self._step, # function operated in the main loop\n",
    "            sequences=[], # iterable input sequences, we don't need this here\n",
    "            outputs_info=[initial_states, ]*3 + [None, ], # initial states, I'll explain why we have 4 initial states.\n",
    "            non_sequences=[inputs, prior], # this is kept the same for the entire for loop\n",
    "            n_steps=self.n_steps, # since sequences is empty, scan needs this information to know when to stop\n",
    "            truncate_gradient=self.truncate_gradient) # how much backpropagation throught time/iteration you need.\n",
    "    if self.return_reconstruction:\n",
    "            return outputs[-1][-1] # return the approximation of the input\n",
    "    else:\n",
    "            return outputs[0][-1] # return the sparse codes"
   ]
  },
  {
   "cell_type": "markdown",
   "metadata": {},
   "source": [
    "This is basically the outter definition of a for loop. The following `_step` function defines what happens inside:"
   ]
  },
  {
   "cell_type": "code",
   "execution_count": 7,
   "metadata": {
    "collapsed": true
   },
   "outputs": [],
   "source": [
    "def _step(self, \n",
    "          x_t, # this is the code itself at the begging of the Expectation step. First values are zero, remember?\n",
    "          accum_1, # We are not going to use regular SGD to optimize \n",
    "          accum_2, # for x. It is too slow, we will use RMSprop instead. Those are its internal helper variables.\n",
    "          inputs # Fixed input data\n",
    "          ): \n",
    "        outputs = T.dot(x_t, self.A) # Ax, its faster to use row orientation here, C heritage you know?\n",
    "        rec_error = T.sqr(inputs - outputs).sum() # First right hand term of L (s - Ax)^2\n",
    "        l1_norm = (self.gamma * diff_abs(x_t)).sum() # diff_abs is sqrt(x^2 + 1e-7) we were talking about\n",
    "        cost = rec_error + l1_norm # this the cost function L\n",
    "        x, new_accum_1, new_accum_2 = _RMSPropStep(cost, x_t, accum_1, accum_2) # _RMSPropStep does the step\n",
    "                                                                                # optimization x <- x + n*grad(L,x)\n",
    "        return x, new_accum_1, new_accum_2, outputs"
   ]
  },
  {
   "cell_type": "markdown",
   "metadata": {},
   "source": [
    "Here is how we will use [RMSprop](https://www.youtube.com/watch?v=LGA-gRkLEsI) to speed up the optimization of $\\mathbf{x}$."
   ]
  },
  {
   "cell_type": "code",
   "execution_count": 9,
   "metadata": {
    "collapsed": true
   },
   "outputs": [],
   "source": [
    "def _RMSPropStep(cost, states, accum_1, accum_2):\n",
    "    rho = .9 # Nobody \n",
    "    lr = .001 # usually understand\n",
    "    momentum = .9 # or mess\n",
    "    epsilon = 1e-8 # with those hyperparameters. BTW lr is the learning rate.\n",
    "\n",
    "    grads = T.grad(cost, states) # I love Theano, don't you\n",
    "    \n",
    "    # Did you see the video I linked above? Ok, keep reading\n",
    "    new_accum_1 = rho * accum_1 + (1 - rho) * grads**2 # running average\n",
    "    new_accum_2 = momentum * accum_2 - lr * grads / T.sqrt(new_accum_1 + epsilon) # momentum\n",
    "    new_states = states + momentum * new_accum_2 - lr * (grads /                        # This is the actual grad\n",
    "                                                         T.sqrt(new_accum_1 + epsilon)) # step update\n",
    "    return new_states, new_accum_1, new_accum_2"
   ]
  },
  {
   "cell_type": "markdown",
   "metadata": {},
   "source": [
    "And thats all we need. Notice that effectively, a sparse coding layer is a recursive layer, similar to an RNN layer. Here we can backpropagate the gradients thorugh optimization step to optimize for $\\mathbf{A}$. Theano `grad` does that backpropagating thorough `scan`. Thus, the Maximization step of the EM-algorithm will be handled by Keras's optimization and I didn't need to write anything for that.\n",
    "\n",
    "A Sparse Coding layer is available as part of `Seya` a library that I'm writing as a companion to Keras. Lets give it a try next."
   ]
  },
  {
   "cell_type": "markdown",
   "metadata": {},
   "source": [
    "### Hands on example"
   ]
  },
  {
   "cell_type": "markdown",
   "metadata": {},
   "source": [
    "Assuming you already have Anaconda (or something like that), scikit-learn, Keras, and stuff. Just install a few extra things I'm writing. \n",
    "\n",
    "Seya for sparse coding layers:  \n",
    "\n",
    "        pip install git+https://github.com/EderSantana/seya.git   \n",
    "        \n",
    "Agnez for deep learning viz stuff. This will be great one day... one day:  \n",
    "\n",
    "        pip install git+https://github.com/EderSantana/agnez.git  \n",
    "        \n",
    "Install the extra stuff your enviroment may ask. Like Seaborn: `pip install seaborn`. Also download a dataset of natural image patches to use here"
   ]
  },
  {
   "cell_type": "code",
   "execution_count": 1,
   "metadata": {
    "collapsed": false
   },
   "outputs": [],
   "source": [
    "# Download a natural image patches dataset\n",
    "%matplotlib inline\n",
    "import os\n",
    "import numpy as np\n",
    "#from scipy.io import loadmat\n",
    "#os.system('wget http://cs.stanford.edu/~jngiam/data/patches.mat')\n",
    "#S = loadmat(patches.mat)\n",
    "import matplotlib.pyplot as plt\n",
    "from sklearn.datasets import fetch_mldata\n",
    "\n",
    "from keras.models import Sequential\n",
    "from keras.regularizers import l2\n",
    "from seya.layers.coding import SparseCoding\n",
    "\n",
    "from agnez import grid2d"
   ]
  },
  {
   "cell_type": "code",
   "execution_count": 2,
   "metadata": {
    "collapsed": false
   },
   "outputs": [
    {
     "name": "stdout",
     "output_type": "stream",
     "text": [
      "(16000, 64)\n"
     ]
    }
   ],
   "source": [
    "# REF: http://peekaboo-vision.blogspot.com/2012/04/learning-gabor-filters-with-ica-and.html\n",
    "image_patches = fetch_mldata(\"natural scenes data\")\n",
    "X = image_patches.data\n",
    " \n",
    "# 1000 patches a 32x32\n",
    "# not so much data, reshape to 16000 patches a 8x8\n",
    "X = X.reshape(1000, 4, 8, 4, 8)\n",
    "X = np.rollaxis(X, 3, 2).reshape(-1, 8 * 8)\n",
    "print X.shape"
   ]
  },
  {
   "cell_type": "code",
   "execution_count": 3,
   "metadata": {
    "collapsed": false
   },
   "outputs": [],
   "source": [
    "mean = X.mean(axis=0)\n",
    "X -= mean[np.newaxis] # we remove the mean otherwise Sparse Coding will focus only on that"
   ]
  },
  {
   "cell_type": "code",
   "execution_count": 6,
   "metadata": {
    "collapsed": false
   },
   "outputs": [
    {
     "name": "stderr",
     "output_type": "stream",
     "text": [
      "WARNING (theano.gof.compilelock): Overriding existing lock by dead process '5376' (I am process '6114')\n",
      "WARNING:theano.gof.compilelock:Overriding existing lock by dead process '5376' (I am process '6114')\n"
     ]
    }
   ],
   "source": [
    "model = Sequential()\n",
    "model.add(\n",
    "    SparseCoding(\n",
    "        input_dim=64,\n",
    "        output_dim=49, # are learning 49 filters,\n",
    "        n_steps = 100, # remember the self.n_steps in the scan loop?\n",
    "        truncate_gradient=1, # no bapropagation through time today now, just regular sparse coding\n",
    "        W_regularizer=l2(.00005),\n",
    "        return_reconstruction=True # we will output Ax which approximates the input\n",
    "    )\n",
    ")\n",
    "\n",
    "model.compile(loss='mse', optimizer='rmsprop') # RMSprop for Maximization as well"
   ]
  },
  {
   "cell_type": "code",
   "execution_count": 8,
   "metadata": {
    "collapsed": false
   },
   "outputs": [
    {
     "name": "stdout",
     "output_type": "stream",
     "text": [
      "Epoch 0\n",
      "1s - loss: 0.2360\n",
      "Epoch 1\n",
      "1s - loss: 0.2088\n",
      "Epoch 2\n",
      "1s - loss: 0.1922\n",
      "Epoch 3\n",
      "1s - loss: 0.1806\n",
      "Epoch 4\n",
      "1s - loss: 0.1718\n",
      "Epoch 5\n",
      "1s - loss: 0.1649\n",
      "Epoch 6\n",
      "1s - loss: 0.1592\n",
      "Epoch 7\n",
      "1s - loss: 0.1546\n",
      "Epoch 8\n",
      "1s - loss: 0.1506\n",
      "Epoch 9\n",
      "1s - loss: 0.1473\n",
      "Epoch 10\n",
      "2s - loss: 0.1445\n",
      "Epoch 11\n",
      "1s - loss: 0.1420\n",
      "Epoch 12\n",
      "1s - loss: 0.1398\n",
      "Epoch 13\n",
      "2s - loss: 0.1379\n",
      "Epoch 14\n",
      "1s - loss: 0.1362\n",
      "Epoch 15\n",
      "2s - loss: 0.1347\n",
      "Epoch 16\n",
      "1s - loss: 0.1334\n",
      "Epoch 17\n",
      "1s - loss: 0.1322\n",
      "Epoch 18\n",
      "1s - loss: 0.1311\n",
      "Epoch 19\n",
      "1s - loss: 0.1301\n",
      "Epoch 20\n",
      "2s - loss: 0.1292\n",
      "Epoch 21\n",
      "1s - loss: 0.1283\n",
      "Epoch 22\n",
      "1s - loss: 0.1276\n",
      "Epoch 23\n",
      "1s - loss: 0.1269\n",
      "Epoch 24\n",
      "2s - loss: 0.1262\n",
      "Epoch 25\n",
      "1s - loss: 0.1256\n",
      "Epoch 26\n",
      "1s - loss: 0.1251\n",
      "Epoch 27\n",
      "1s - loss: 0.1245\n",
      "Epoch 28\n",
      "1s - loss: 0.1241\n",
      "Epoch 29\n",
      "1s - loss: 0.1236\n",
      "Epoch 30\n",
      "2s - loss: 0.1232\n",
      "Epoch 31\n",
      "1s - loss: 0.1228\n",
      "Epoch 32\n",
      "1s - loss: 0.1224\n",
      "Epoch 33\n",
      "1s - loss: 0.1221\n",
      "Epoch 34\n",
      "1s - loss: 0.1218\n",
      "Epoch 35\n",
      "1s - loss: 0.1215\n",
      "Epoch 36\n",
      "2s - loss: 0.1212\n",
      "Epoch 37\n",
      "1s - loss: 0.1209\n",
      "Epoch 38\n",
      "1s - loss: 0.1206\n",
      "Epoch 39\n",
      "1s - loss: 0.1204\n",
      "Epoch 40\n",
      "1s - loss: 0.1201\n",
      "Epoch 41\n",
      "2s - loss: 0.1199\n",
      "Epoch 42\n",
      "1s - loss: 0.1197\n",
      "Epoch 43\n",
      "1s - loss: 0.1195\n",
      "Epoch 44\n",
      "1s - loss: 0.1193\n",
      "Epoch 45\n",
      "1s - loss: 0.1192\n",
      "Epoch 46\n",
      "2s - loss: 0.1190\n",
      "Epoch 47\n",
      "1s - loss: 0.1188\n",
      "Epoch 48\n",
      "1s - loss: 0.1187\n",
      "Epoch 49\n",
      "1s - loss: 0.1185\n",
      "Epoch 50\n",
      "1s - loss: 0.1184\n",
      "Epoch 51\n",
      "2s - loss: 0.1182\n",
      "Epoch 52\n",
      "1s - loss: 0.1181\n",
      "Epoch 53\n",
      "1s - loss: 0.1180\n",
      "Epoch 54\n",
      "1s - loss: 0.1178\n",
      "Epoch 55\n",
      "1s - loss: 0.1177\n",
      "Epoch 56\n",
      "2s - loss: 0.1176\n",
      "Epoch 57\n",
      "1s - loss: 0.1175\n",
      "Epoch 58\n",
      "1s - loss: 0.1174\n",
      "Epoch 59\n",
      "1s - loss: 0.1173\n",
      "Epoch 60\n",
      "1s - loss: 0.1172\n",
      "Epoch 61\n",
      "1s - loss: 0.1171\n",
      "Epoch 62\n",
      "1s - loss: 0.1170\n",
      "Epoch 63\n",
      "1s - loss: 0.1170\n",
      "Epoch 64\n",
      "1s - loss: 0.1169\n",
      "Epoch 65\n",
      "1s - loss: 0.1168\n",
      "Epoch 66\n",
      "1s - loss: 0.1167\n",
      "Epoch 67\n",
      "2s - loss: 0.1166\n",
      "Epoch 68\n",
      "1s - loss: 0.1166\n",
      "Epoch 69\n",
      "1s - loss: 0.1165\n",
      "Epoch 70\n",
      "1s - loss: 0.1164\n",
      "Epoch 71\n",
      "1s - loss: 0.1164\n",
      "Epoch 72\n",
      "2s - loss: 0.1163\n",
      "Epoch 73\n",
      "1s - loss: 0.1162\n",
      "Epoch 74\n",
      "1s - loss: 0.1162\n",
      "Epoch 75\n",
      "1s - loss: 0.1161\n",
      "Epoch 76\n",
      "1s - loss: 0.1161\n",
      "Epoch 77\n",
      "1s - loss: 0.1160\n",
      "Epoch 78\n",
      "1s - loss: 0.1160\n",
      "Epoch 79\n",
      "1s - loss: 0.1159\n",
      "Epoch 80\n",
      "1s - loss: 0.1159\n",
      "Epoch 81\n",
      "2s - loss: 0.1158\n",
      "Epoch 82\n",
      "2s - loss: 0.1158\n",
      "Epoch 83\n",
      "1s - loss: 0.1157\n",
      "Epoch 84\n",
      "1s - loss: 0.1157\n",
      "Epoch 85\n",
      "2s - loss: 0.1156\n",
      "Epoch 86\n",
      "2s - loss: 0.1156\n",
      "Epoch 87\n",
      "2s - loss: 0.1155\n",
      "Epoch 88\n",
      "1s - loss: 0.1155\n",
      "Epoch 89\n",
      "1s - loss: 0.1155\n",
      "Epoch 90\n",
      "1s - loss: 0.1154\n",
      "Epoch 91\n",
      "1s - loss: 0.1154\n",
      "Epoch 92\n",
      "2s - loss: 0.1153\n",
      "Epoch 93\n",
      "1s - loss: 0.1153\n",
      "Epoch 94\n",
      "1s - loss: 0.1153\n",
      "Epoch 95\n",
      "1s - loss: 0.1152\n",
      "Epoch 96\n",
      "1s - loss: 0.1152\n",
      "Epoch 97\n",
      "2s - loss: 0.1152\n",
      "Epoch 98\n",
      "2s - loss: 0.1151\n",
      "Epoch 99\n",
      "1s - loss: 0.1151\n"
     ]
    },
    {
     "data": {
      "text/plain": [
       "<keras.callbacks.History at 0x114c82d50>"
      ]
     },
     "execution_count": 8,
     "metadata": {},
     "output_type": "execute_result"
    }
   ],
   "source": [
    "nb_epoch = 100\n",
    "batch_size = 100\n",
    "model.fit(X, # input \n",
    "          X, # and output are the same thing, since we are doing generative modelling.\n",
    "          batch_size=batch_size,\n",
    "          nb_epoch=nb_epoch, \n",
    "          show_accuracy=False,\n",
    "          verbose=2)"
   ]
  },
  {
   "cell_type": "markdown",
   "metadata": {},
   "source": [
    "... 100 iterations later ..."
   ]
  },
  {
   "cell_type": "code",
   "execution_count": 9,
   "metadata": {
    "collapsed": false
   },
   "outputs": [
    {
     "data": {
      "text/plain": [
       "<matplotlib.image.AxesImage at 0x11a5a9750>"
      ]
     },
     "execution_count": 9,
     "metadata": {},
     "output_type": "execute_result"
    },
    {
     "data": {
      "image/png": "[encoded data removed]",
      "text/plain": [
       "<matplotlib.figure.Figure at 0x1146b0750>"
      ]
     },
     "metadata": {},
     "output_type": "display_data"
    }
   ],
   "source": [
    "# Visualizing results\n",
    "A = model.params[0].get_value()\n",
    "I = grid2d(A)\n",
    "plt.imshow(I)"
   ]
  },
  {
   "cell_type": "markdown",
   "metadata": {},
   "source": [
    "Notice that we learned a few Gabor-like wavelets as the filters $mathbf{A}$ just like it was reported at [1]. Usually, those edge detector are usefull as first layer processing for image processing. You'll get stuff like that in the first layer of networks trained to solve Cifar10, Imagenet and pretty much any other good deep learning for image (and something similar for audio as well).\n",
    "\n",
    "That same SparseCoding layer can be used as part of a classification network. We leave this use case as an exercise for the reader."
   ]
  },
  {
   "cell_type": "code",
   "execution_count": null,
   "metadata": {
    "collapsed": true
   },
   "outputs": [],
   "source": []
  }
 ],
 "metadata": {
  "kernelspec": {
   "display_name": "Python 2",
   "language": "python",
   "name": "python2"
  },
  "language_info": {
   "codemirror_mode": {
    "name": "ipython",
    "version": 2
   },
   "file_extension": ".py",
   "mimetype": "text/x-python",
   "name": "python",
   "nbconvert_exporter": "python",
   "pygments_lexer": "ipython2",
   "version": "2.7.10"
  }
 },
 "nbformat": 4,
 "nbformat_minor": 0
}
