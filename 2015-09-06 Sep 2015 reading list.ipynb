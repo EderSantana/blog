{
 "cells": [
  {
   "cell_type": "markdown",
   "metadata": {},
   "source": [
    "# Towards Neural Network-based Reasoning\n",
    "arXiv: http://arxiv.org/abs/1508.05508\n",
    "\n",
    "... The most interesting thing here was how they handled differently sized samples (as of now, I haven't read \"Memory Networks\" yet). Note that for fact reasoning we may have different numbers of facts, each one as a sentence of arbitrary size. They handled that by cascading DNNs, RNNs and/or pooling operations to end up with a fixed size vector that could be utlimately classified or used as a seed to a final sequence generator RNN. The stack also does \"sensor fusion\" between query and facts at each level."
   ]
  },
  {
   "cell_type": "markdown",
   "metadata": {},
   "source": [
    "# Pointer Networks\n",
    "arXiv: http://arxiv.org/abs/1506.03134"
   ]
  },
  {
   "cell_type": "markdown",
   "metadata": {},
   "source": [
    "# Variational Dropout and the Local Reparameterization Trick\n",
    "arXiv: http://arxiv.org/abs/1506.02557"
   ]
  },
  {
   "cell_type": "markdown",
   "metadata": {},
   "source": [
    "# Winner-Take-All Autoencoders\n",
    "arXiv: http://arxiv.org/abs/1409.2752"
   ]
  },
  {
   "cell_type": "markdown",
   "metadata": {},
   "source": [
    "# Inferring Algorithmic Patterns with Stack-Augmented Recurrent Nets\n",
    "arXiv: http://arxiv.org/pdf/1503.01007.pdf"
   ]
  },
  {
   "cell_type": "markdown",
   "metadata": {},
   "source": [
    "# Convolutional spike-triggered covariance analysis for neural subunit models\n",
    "arXiv: no-prepint"
   ]
  },
  {
   "cell_type": "code",
   "execution_count": null,
   "metadata": {
    "collapsed": true
   },
   "outputs": [],
   "source": []
  }
 ],
 "metadata": {
  "kernelspec": {
   "display_name": "Python 2",
   "language": "python",
   "name": "python2"
  },
  "language_info": {
   "codemirror_mode": {
    "name": "ipython",
    "version": 2
   },
   "file_extension": ".py",
   "mimetype": "text/x-python",
   "name": "python",
   "nbconvert_exporter": "python",
   "pygments_lexer": "ipython2",
   "version": "2.7.10"
  }
 },
 "nbformat": 4,
 "nbformat_minor": 0
}
