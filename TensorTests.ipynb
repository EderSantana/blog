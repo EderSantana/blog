{
 "metadata": {
  "name": "",
  "signature": "sha256:24f0dfc30b8eeeae8c832182f634a2d84f2a16e7588b8c07065e33da28a8f39c"
 },
 "nbformat": 3,
 "nbformat_minor": 0,
 "worksheets": [
  {
   "cells": [
    {
     "cell_type": "code",
     "collapsed": false,
     "input": [
      "%matplotlib inline\n",
      "\n",
      "import numpy as np\n",
      "import matplotlib.pyplot as plt\n",
      "import theano.tensor as T\n",
      "import theano\n",
      "\n",
      "from sklearn.linear_model import LogisticRegression\n",
      "\n",
      "from agnez.weight import grid2d\n",
      "from agnez import video_grid, image_sequence\n",
      "\n",
      "from keras.models import Sequential, Graph\n",
      "from keras.layers.core import TimeDistributedDense, Dropout, Reshape, Masking, Dense, Activation\n",
      "from keras.layers.recurrent import GRU\n",
      "from keras.layers.normalization import BatchNormalization\n",
      "from keras.utils import generic_utils\n",
      "from keras.callbacks import ModelCheckpoint, Callback\n",
      "from keras.utils.io_utils import HDF5Matrix\n",
      "\n",
      "from seya.layers.base import Replicator, TimePicker\n",
      "from seya.layers.tensor import Tensor, Elman, Tensor2\n",
      "from seya.data_utils import TransformedDataset, RotateData, HDF5Tensor"
     ],
     "language": "python",
     "metadata": {},
     "outputs": []
    },
    {
     "cell_type": "code",
     "collapsed": false,
     "input": [
      "from keras.datasets import mnist\n",
      "from keras.utils import np_utils\n",
      "\n",
      "(_, y_train), (_, y_test) = mnist.load_data()\n",
      "\n",
      "#X_train = HDF5Matrix('rotated_mnist_train.hdf5', 'X_train', 0, 50000)\n",
      "#X_valid = HDF5Matrix('rotated_mnist_train.hdf5', 'X_valid', 0, 10000)\n",
      "#X_test  = HDF5Matrix('rotated_mnist_train.hdf5', 'X_test',  0, 10000)\n",
      "X_train = HDF5Tensor('rotated_mnist_train.hdf5', 'X_train', 0, 50000, 0, 19)\n",
      "X2_train = HDF5Tensor('rotated_mnist_train.hdf5', 'X_train', 0, 50000, 1, 20)\n",
      "\n",
      "X_valid = HDF5Tensor('rotated_mnist_train.hdf5', 'X_valid', 0, 10000, 0, 19)\n",
      "X2_valid = HDF5Tensor('rotated_mnist_train.hdf5', 'X_valid', 0, 10000, 1, 20)\n",
      "\n",
      "X_test = HDF5Tensor('rotated_mnist_train.hdf5', 'X_test', 0, 10000, 0, 19)\n",
      "X2_test = HDF5Tensor('rotated_mnist_train.hdf5', 'X_test', 0, 10000, 1, 20)\n",
      "\n",
      "\n",
      "# convert class vectors to binary class matrices\n",
      "Y_train = np_utils.to_categorical(y_train, 10)\n",
      "Y_test = np_utils.to_categorical(y_test, 10)"
     ],
     "language": "python",
     "metadata": {},
     "outputs": []
    },
    {
     "cell_type": "code",
     "collapsed": false,
     "input": [
      "b = X_valid[:10]\n",
      "print(b.shape)\n",
      "print(X_train.shape)"
     ],
     "language": "python",
     "metadata": {},
     "outputs": []
    },
    {
     "cell_type": "code",
     "collapsed": false,
     "input": [
      "I0 = image_sequence(b[0], (28, 28))\n",
      "I1 = image_sequence(b[1], (28, 28))\n",
      "I2 = image_sequence(b[2], (28, 28))\n",
      "I = np.vstack([I0, I1, I2])\n",
      "plt.figure(figsize=(10,10))\n",
      "plt.imshow(I)\n",
      "_ = plt.axis('off')"
     ],
     "language": "python",
     "metadata": {},
     "outputs": []
    },
    {
     "cell_type": "code",
     "collapsed": false,
     "input": [
      "causes_dim = 10\n",
      "states_dim = 100\n",
      "\n",
      "h2o = Sequential()\n",
      "h2o.add(Dense(states_dim, causes_dim))\n",
      "h2o.add(Activation('sigmoid'))\n",
      "\n",
      "model = Sequential()\n",
      "model.add(Tensor2(input_dim=784, output_dim=states_dim, causes_dim=causes_dim,\n",
      "                 hid2output=h2o, return_mode='states', return_sequences=True,\n",
      "                 activation='tanh'))\n",
      "model.add(TimeDistributedDense(100, 784))\n",
      "model.add(Activation('sigmoid'))"
     ],
     "language": "python",
     "metadata": {},
     "outputs": []
    },
    {
     "cell_type": "code",
     "collapsed": false,
     "input": [
      "model.compile(loss='binary_crossentropy', optimizer='adam')"
     ],
     "language": "python",
     "metadata": {},
     "outputs": []
    },
    {
     "cell_type": "code",
     "collapsed": false,
     "input": [
      "class SaveGif(Callback):\n",
      "    def __init__(self, filepath, how_often=10):\n",
      "        super(Callback, self).__init__()\n",
      "        self.filepath = filepath\n",
      "        self.how_often = how_often\n",
      "    def on_epoch_end(self, epoch, logs={}):\n",
      "        if epoch % self.how_often == 0:\n",
      "            rec = self.model.predict(X_test[:100])\n",
      "            _ = video_grid(rec.transpose(1, 0, 2), self.filepath)\n",
      "        print('Saved reconstruction.')"
     ],
     "language": "python",
     "metadata": {},
     "outputs": []
    },
    {
     "cell_type": "code",
     "collapsed": false,
     "input": [
      "# Training parameters\n",
      "batch_size = 128\n",
      "nb_epoch = 100\n",
      "savegif = SaveGif('fastdpcn.gif')\n",
      "cbk = ModelCheckpoint(filepath='best_tensor2_pred.hdf5',\n",
      "                      save_best_only=True,\n",
      "                      verbose=1)"
     ],
     "language": "python",
     "metadata": {},
     "outputs": []
    },
    {
     "cell_type": "code",
     "collapsed": false,
     "input": [
      "try:\n",
      "    model.fit(\n",
      "        X_train, \n",
      "        X2_train, \n",
      "        batch_size=batch_size, \n",
      "        nb_epoch=nb_epoch,\n",
      "        show_accuracy=False,\n",
      "        verbose=1, \n",
      "        validation_data=(X_valid, X2_valid),\n",
      "        callbacks=[cbk, savegif],\n",
      "        shuffle='batch')\n",
      "except KeyboardInterrupt:\n",
      "    pass"
     ],
     "language": "python",
     "metadata": {},
     "outputs": []
    },
    {
     "cell_type": "code",
     "collapsed": false,
     "input": [],
     "language": "python",
     "metadata": {},
     "outputs": []
    },
    {
     "cell_type": "code",
     "collapsed": false,
     "input": [],
     "language": "python",
     "metadata": {},
     "outputs": []
    },
    {
     "cell_type": "code",
     "collapsed": false,
     "input": [],
     "language": "python",
     "metadata": {},
     "outputs": []
    },
    {
     "cell_type": "code",
     "collapsed": false,
     "input": [],
     "language": "python",
     "metadata": {},
     "outputs": []
    },
    {
     "cell_type": "code",
     "collapsed": false,
     "input": [],
     "language": "python",
     "metadata": {},
     "outputs": []
    },
    {
     "cell_type": "code",
     "collapsed": false,
     "input": [
      "causes = Sequential()\n",
      "causes.add(Tensor2(input_dim=784, output_dim=10, causes_dim=10,\n",
      "           hid2output=h2o, return_mode='causes', return_sequences=True))\n",
      "for i, W in enumerate(causes.params):\n",
      "    W.set_value( model.params[i].get_value() )\n",
      "    \n",
      "X = causes.get_input()\n",
      "F = theano.function([X], causes.get_output())\n",
      "\n",
      "X2 = model.layers[0].get_input()\n",
      "G = theano.function([X2], model.layers[0].get_output())"
     ],
     "language": "python",
     "metadata": {},
     "outputs": []
    },
    {
     "cell_type": "code",
     "collapsed": false,
     "input": [
      "u = F(X_train[:10])\n",
      "#plt.plot(u[-1].argmax(axis=-1))\n",
      "_ = plt.plot(u[2])"
     ],
     "language": "python",
     "metadata": {},
     "outputs": []
    },
    {
     "cell_type": "code",
     "collapsed": false,
     "input": [
      "W = model.layers[0].W.get_value()\n",
      "print(W.shape)"
     ],
     "language": "python",
     "metadata": {},
     "outputs": []
    },
    {
     "cell_type": "code",
     "collapsed": false,
     "input": [
      "I = grid2d(W[:, 8, :].T)\n",
      "plt.imshow(I)"
     ],
     "language": "python",
     "metadata": {},
     "outputs": []
    },
    {
     "cell_type": "code",
     "collapsed": false,
     "input": [
      "u = np.zeros((6000, 20-1, 10))\n",
      "v = np.zeros((6000, 20-1, 100))\n",
      "y = np.zeros((6000,))\n",
      "for i in range(6000/1000):\n",
      "    s = i*100\n",
      "    f = (i+1) * 100\n",
      "    u[s:f] = F(X_train[s:f]) #.argmax(axis=-1)\n",
      "    v[s:f] = G(X_train[s:f])\n",
      "    y[s:f] = y_train[s:f]"
     ],
     "language": "python",
     "metadata": {},
     "outputs": []
    },
    {
     "cell_type": "code",
     "collapsed": false,
     "input": [
      "from sklearn.manifold.t_sne import TSNE\n",
      "from agnez import embedding2d, embedding2dplot\n",
      "tsne = TSNE(verbose=2)\n",
      "ebd,_ = embedding2d(v.reshape((-1, 1900)), method=tsne)"
     ],
     "language": "python",
     "metadata": {},
     "outputs": []
    },
    {
     "cell_type": "code",
     "collapsed": false,
     "input": [
      "_ = embedding2dplot(ebd, y.astype('int'))"
     ],
     "language": "python",
     "metadata": {},
     "outputs": []
    },
    {
     "cell_type": "code",
     "collapsed": false,
     "input": [
      "u = np.zeros((50000, 20-1, 10))\n",
      "v = np.zeros((50000, 20-1, 100))\n",
      "y = np.zeros((50000,))\n",
      "for i in range(50000/1000):\n",
      "    s = i*1000\n",
      "    f = (i+1) * 1000\n",
      "    u[s:f] = F(X_train[s:f]) #.argmax(axis=-1)\n",
      "    v[s:f] = G(X_train[s:f])\n",
      "    y[s:f] = y_train[s:f]"
     ],
     "language": "python",
     "metadata": {},
     "outputs": []
    },
    {
     "cell_type": "code",
     "collapsed": false,
     "input": [
      "clf = LogisticRegression()\n",
      "clf.fit(u.reshape((-1, 190)), y)"
     ],
     "language": "python",
     "metadata": {},
     "outputs": []
    },
    {
     "cell_type": "code",
     "collapsed": false,
     "input": [
      "clf.score(u.reshape((-1, 190)), y)"
     ],
     "language": "python",
     "metadata": {},
     "outputs": []
    },
    {
     "cell_type": "code",
     "collapsed": false,
     "input": [
      "u = np.zeros((10000, 19, 10))\n",
      "v = np.zeros((10000, 19, 100))\n",
      "y = np.zeros((10000,))\n",
      "for i in range(10000/1000):\n",
      "    s = i*1000\n",
      "    f = (i+1) * 1000\n",
      "    u[s:f] = F(X_test[s:f]) #.argmax(axis=-1)\n",
      "    v[s:f] = G(X_test[s:f])\n",
      "    y[s:f] = y_test[s:f]"
     ],
     "language": "python",
     "metadata": {},
     "outputs": []
    },
    {
     "cell_type": "code",
     "collapsed": false,
     "input": [
      "clf.score(v.reshape((-1, 1900)), y)"
     ],
     "language": "python",
     "metadata": {},
     "outputs": []
    },
    {
     "cell_type": "code",
     "collapsed": false,
     "input": [],
     "language": "python",
     "metadata": {},
     "outputs": []
    }
   ],
   "metadata": {}
  }
 ]
}